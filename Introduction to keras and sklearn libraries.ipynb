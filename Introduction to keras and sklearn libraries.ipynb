{
  "nbformat": 4,
  "nbformat_minor": 0,
  "metadata": {
    "colab": {
      "provenance": [],
      "authorship_tag": "ABX9TyNN2+IxFV8bvP8BC6NgJ72Q"
    },
    "kernelspec": {
      "name": "python3",
      "display_name": "Python 3"
    },
    "language_info": {
      "name": "python"
    }
  },
  "cells": [
    {
      "cell_type": "markdown",
      "source": [
        "# What is keras"
      ],
      "metadata": {
        "id": "oEcqqO7HNSYk"
      }
    },
    {
      "cell_type": "markdown",
      "source": [
        "##### Keras is an easy-to-use and powerful library for TensorFlow that provides a high-level neural networks API to develop and evaluate deep learning models."
      ],
      "metadata": {
        "id": "0U7-KZONNg2G"
      }
    },
    {
      "cell_type": "markdown",
      "source": [
        "# Basic flow of keras model execution flow.\n",
        "\n",
        "![image](https://drive.google.com/uc?id=1uWOjo2R0OV-ajAhOeShE9-_ub9bXG9r8)\n",
        "\n",
        "\n"
      ],
      "metadata": {
        "id": "sOTFZoLU-V7j"
      }
    },
    {
      "cell_type": "code",
      "source": [
        "# install required libraries using pip command.\n",
        "\n",
        "!pip install keras\n",
        "!pip install numpy"
      ],
      "metadata": {
        "colab": {
          "base_uri": "https://localhost:8080/"
        },
        "id": "908spKr1OOI9",
        "outputId": "58ac7d07-7e86-45de-906e-d90682a8d77e"
      },
      "execution_count": null,
      "outputs": [
        {
          "output_type": "stream",
          "name": "stdout",
          "text": [
            "Looking in indexes: https://pypi.org/simple, https://us-python.pkg.dev/colab-wheels/public/simple/\n",
            "Requirement already satisfied: keras in /usr/local/lib/python3.10/dist-packages (2.12.0)\n",
            "Looking in indexes: https://pypi.org/simple, https://us-python.pkg.dev/colab-wheels/public/simple/\n",
            "Requirement already satisfied: numpy in /usr/local/lib/python3.10/dist-packages (1.22.4)\n"
          ]
        }
      ]
    },
    {
      "cell_type": "code",
      "source": [
        "# Basic example\n",
        "\n",
        "import numpy as np\n",
        "from keras.models import Sequential\n",
        "from keras.layers import Dense\n",
        "data = np.random.random((1000,100))\n",
        "labels = np.random.randint(2,size=(1000,1))\n",
        "model = Sequential()\n",
        "model.add(Dense(32, activation='relu', input_dim=100))\n",
        "model.add(Dense(1, activation='sigmoid'))\n",
        "model.compile(optimizer='rmsprop', loss='binary_crossentropy', metrics=['accuracy'])\n",
        "model.fit(data,labels,epochs=5,batch_size=32)\n",
        "predictions = model.predict(data)"
      ],
      "metadata": {
        "colab": {
          "base_uri": "https://localhost:8080/"
        },
        "id": "BQbh6RB9NdhV",
        "outputId": "2edcc016-12e1-4455-8ccc-8ad6d99b7707"
      },
      "execution_count": null,
      "outputs": [
        {
          "output_type": "stream",
          "name": "stdout",
          "text": [
            "Epoch 1/5\n",
            "32/32 [==============================] - 1s 2ms/step - loss: 0.7016 - accuracy: 0.5070\n",
            "Epoch 2/5\n",
            "32/32 [==============================] - 0s 2ms/step - loss: 0.6910 - accuracy: 0.5400\n",
            "Epoch 3/5\n",
            "32/32 [==============================] - 0s 2ms/step - loss: 0.6874 - accuracy: 0.5590\n",
            "Epoch 4/5\n",
            "32/32 [==============================] - 0s 2ms/step - loss: 0.6837 - accuracy: 0.5500\n",
            "Epoch 5/5\n",
            "32/32 [==============================] - 0s 2ms/step - loss: 0.6802 - accuracy: 0.5560\n",
            "32/32 [==============================] - 0s 1ms/step\n"
          ]
        }
      ]
    },
    {
      "cell_type": "markdown",
      "source": [
        "## Pre-processing"
      ],
      "metadata": {
        "id": "W3vtp3ZIPJuU"
      }
    },
    {
      "cell_type": "code",
      "source": [
        "!pip install keras_preprocessing"
      ],
      "metadata": {
        "id": "6Pnx9rnDOmjF"
      },
      "execution_count": null,
      "outputs": []
    },
    {
      "cell_type": "code",
      "source": [
        "# importing tokenzier and padding from keras preprocessing library.\n",
        "from keras.preprocessing.text import Tokenizer\n",
        "from keras.preprocessing.sequence import pad_sequences"
      ],
      "metadata": {
        "id": "N-pMAdlZPZZF"
      },
      "execution_count": null,
      "outputs": []
    },
    {
      "cell_type": "markdown",
      "source": [
        "## Data Curation"
      ],
      "metadata": {
        "id": "hbaaLf2oPtWK"
      }
    },
    {
      "cell_type": "code",
      "source": [
        "from sklearn.model_selection import train_test_split\n",
        "X_train, X_test, y_train, y_test = train_test_split(data, labels, test_size=0.2)"
      ],
      "metadata": {
        "id": "CAHSAHH0PwZH"
      },
      "execution_count": null,
      "outputs": []
    },
    {
      "cell_type": "markdown",
      "source": [
        "## Model Architecture"
      ],
      "metadata": {
        "id": "K7mHPfO-QEqm"
      }
    },
    {
      "cell_type": "code",
      "source": [
        "from keras.models import Sequential\n",
        "model = Sequential()\n",
        "model2 = Sequential()"
      ],
      "metadata": {
        "id": "9IyaL0DdQHrz"
      },
      "execution_count": null,
      "outputs": []
    },
    {
      "cell_type": "markdown",
      "source": [
        "## Binary Classification"
      ],
      "metadata": {
        "id": "QYZFzX1gQbbP"
      }
    },
    {
      "cell_type": "code",
      "source": [
        "# example of binary classification problem\n",
        "from keras.layers import Dense\n",
        "model.add(Dense(12, input_dim=8, activation='relu'))\n",
        "model.add(Dense(8, activation='relu'))\n",
        "model.add(Dense(1, activation='sigmoid'))"
      ],
      "metadata": {
        "id": "NWmvUCuQQeCR"
      },
      "execution_count": null,
      "outputs": []
    },
    {
      "cell_type": "markdown",
      "source": [
        "## Multiclass Classification"
      ],
      "metadata": {
        "id": "jS8JmjUYQwG1"
      }
    },
    {
      "cell_type": "code",
      "source": [
        "# example of multiclass classification problem\n",
        "from keras.layers import Dropout\n",
        "model.add(Dense(512,activation='relu',input_shape=(784,)))\n",
        "model.add(Dropout(0.2))\n",
        "model.add(Dense(512,activation='relu'))\n",
        "model.add(Dropout(0.2))\n",
        "model.add(Dense(5,activation='softmax'))"
      ],
      "metadata": {
        "id": "K8cVANGRQyaF"
      },
      "execution_count": null,
      "outputs": []
    },
    {
      "cell_type": "code",
      "source": [
        "# To view model summary\n",
        "\n",
        "model.summary()\n",
        "\n",
        "# To view model configuration\n",
        "\n",
        "model.get_config()"
      ],
      "metadata": {
        "id": "oOVA6SsxRLjQ"
      },
      "execution_count": null,
      "outputs": []
    },
    {
      "cell_type": "markdown",
      "source": [
        "## Compiling Model"
      ],
      "metadata": {
        "id": "AgZH9tYeRcpX"
      }
    },
    {
      "cell_type": "code",
      "source": [
        "# if problem belongs to binary classification\n",
        "model.compile(optimizer='adam', loss='binary_crossentropy', metrics=['accuracy'])\n",
        "\n",
        "\n",
        "# if problem belongs to multiclass classification\n",
        "model.compile(optimizer='rmsprop', loss='categorical_crossentropy', metrics=['accuracy'])"
      ],
      "metadata": {
        "id": "l_9rmbdtRe8u"
      },
      "execution_count": null,
      "outputs": []
    },
    {
      "cell_type": "markdown",
      "source": [
        "## Training of Model\n"
      ],
      "metadata": {
        "id": "KVoNPbxmR1wt"
      }
    },
    {
      "cell_type": "code",
      "source": [
        "# defining batch size, number of epochs and if you are diving data into 3 parts such as training set, validation set and testing set.\n",
        "model.fit(x_train, y_train, batch_size=32, epochs=15, verbose=1, validation_data=(x_val, y_val))"
      ],
      "metadata": {
        "id": "s8yRfPXoR44X"
      },
      "execution_count": null,
      "outputs": []
    },
    {
      "cell_type": "markdown",
      "source": [
        "## Evaluation of Model"
      ],
      "metadata": {
        "id": "4JHtFJGPSS6B"
      }
    },
    {
      "cell_type": "code",
      "source": [
        "model.evaluate(x_test, y_test, batch_size=32)"
      ],
      "metadata": {
        "id": "Q_FVZI27SV1g"
      },
      "execution_count": null,
      "outputs": []
    },
    {
      "cell_type": "markdown",
      "source": [
        "## Prediction of Model"
      ],
      "metadata": {
        "id": "9RGjrdF1SrXB"
      }
    },
    {
      "cell_type": "code",
      "source": [
        "model.predict(x_test, batch_size=32)\n"
      ],
      "metadata": {
        "id": "iCAxgJnpStbr"
      },
      "execution_count": null,
      "outputs": []
    },
    {
      "cell_type": "markdown",
      "source": [
        "## Saving Model/ Reloading Model"
      ],
      "metadata": {
        "id": "eUX5nrIGTDXr"
      }
    },
    {
      "cell_type": "code",
      "source": [
        "from keras.models import load_models\n",
        "model.save('model_file.h5')\n",
        "my_model = load_models('my_model.h5')"
      ],
      "metadata": {
        "id": "KjIRCwugS_Zz"
      },
      "execution_count": null,
      "outputs": []
    },
    {
      "cell_type": "markdown",
      "source": [
        "## Supervised Learning Algorithm using Sklearn"
      ],
      "metadata": {
        "id": "cTguOvv6T7on"
      }
    },
    {
      "cell_type": "code",
      "source": [
        "# Linear Regression\n",
        "\n",
        "from sklearn.linear_model import LinearRegression\n",
        "lr = LinearRegression(normalize=True)\n",
        "\n",
        "# SVC \n",
        "from sklearn.svm import SVC\n",
        "svc = SVC(kernel='linear')"
      ],
      "metadata": {
        "id": "w3bihL57UAn3"
      },
      "execution_count": null,
      "outputs": []
    },
    {
      "cell_type": "markdown",
      "source": [
        "## Unsupervised Learning using Sklearn"
      ],
      "metadata": {
        "id": "hDaMKYuFUMfF"
      }
    },
    {
      "cell_type": "code",
      "source": [
        "# Principal Component Analysis (PCA)\n",
        "from sklearn.decomposition import PCA\n",
        "pca = PCA(n_components=0.95)\n",
        "\n",
        "# K-means Clustering\n",
        "from sklearn.cluster import KMeans\n",
        "k_means = KMeans(n_clusters=3, random_state=0)"
      ],
      "metadata": {
        "id": "2TEz9ZV1UPDt"
      },
      "execution_count": null,
      "outputs": []
    },
    {
      "cell_type": "markdown",
      "source": [
        "## Model fitting using Sklearn"
      ],
      "metadata": {
        "id": "zyylIkAFUlih"
      }
    },
    {
      "cell_type": "code",
      "source": [
        "lr.fit(X, y)\n",
        "svc.fit(X_train, y_train)\n",
        "\n",
        "\n",
        "k_means.fit(X_train)\n",
        "pca_model = pca.fit_transform(X_train)"
      ],
      "metadata": {
        "id": "Q4UEnfyRUoZz"
      },
      "execution_count": null,
      "outputs": []
    },
    {
      "cell_type": "markdown",
      "source": [
        "## Prediction using Sklearn"
      ],
      "metadata": {
        "id": "WEhlesnAUyWu"
      }
    },
    {
      "cell_type": "code",
      "source": [
        "y_pred = svc.predict(np.random.random((2,5)))\n",
        "y_pred = lr.predict(X_test)\n",
        "y_pred = k_means.predict(X_test)"
      ],
      "metadata": {
        "id": "5_KzflFnUz6E"
      },
      "execution_count": null,
      "outputs": []
    },
    {
      "cell_type": "markdown",
      "source": [
        "## Classification Results"
      ],
      "metadata": {
        "id": "Bpnd5d6KU7cW"
      }
    },
    {
      "cell_type": "code",
      "source": [
        "# accuracy score\n",
        "\n",
        "from sklearn.metrics import accuracy_score\n",
        "accuracy_score(y_test, y_pred)\n",
        "\n",
        "# classfication report\n",
        "from sklearn.metrics import classification_report\n",
        "print(classification_report(y_test, y_pred))\n",
        "\n",
        "# confusion matrix\n",
        "from sklearn.metrics import confusion_matrix\n",
        "print(confusion_matrix(y_test, y_pred))"
      ],
      "metadata": {
        "id": "ksS565ZvU9VS"
      },
      "execution_count": null,
      "outputs": []
    },
    {
      "cell_type": "markdown",
      "source": [
        "## Useful links to get idea about keras and sklearn"
      ],
      "metadata": {
        "id": "DtF_nz9SVYVD"
      }
    },
    {
      "cell_type": "markdown",
      "source": [
        "1) https://scikit-learn.org/stable/user_guide.html\n",
        "\n",
        "2) https://keras.io/api/\n",
        "\n",
        "3) https://www.tutorialspoint.com/scikit_learn/scikit_learn_introduction.htm\n"
      ],
      "metadata": {
        "id": "rzBtW_dy2jJN"
      }
    }
  ]
}